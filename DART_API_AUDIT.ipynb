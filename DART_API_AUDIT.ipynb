{
 "cells": [
  {
   "cell_type": "code",
   "execution_count": 1,
   "id": "a6186965",
   "metadata": {},
   "outputs": [],
   "source": [
    "import requests\n",
    "import zipfile\n",
    "import numpy as np\n",
    "import pandas as pd\n",
    "import os\n",
    "\n",
    "url = \"https://opendart.fss.or.kr/api/corpCode.xml\"\n",
    "api_key = \"\"\n",
    "params = {'crtfc_key':api_key}\n",
    "response = requests.get(url, params = params)"
   ]
  },
  {
   "cell_type": "code",
   "execution_count": 2,
   "id": "14cf9d58",
   "metadata": {},
   "outputs": [],
   "source": [
    "os.chdir('')"
   ]
  },
  {
   "cell_type": "code",
   "execution_count": 3,
   "id": "7e7b269b",
   "metadata": {},
   "outputs": [],
   "source": [
    "# save zip file in local\n",
    "with open('./id.zip','wb') as fp:\n",
    "    fp.write(response.content)\n",
    "\n",
    "# extract file\n",
    "zf = zipfile.ZipFile('./id.zip')\n",
    "zf.extractall()"
   ]
  },
  {
   "cell_type": "code",
   "execution_count": 4,
   "id": "9b31920c",
   "metadata": {},
   "outputs": [],
   "source": [
    "xml_path = os.path.abspath('./CORPCODE.xml')\n",
    "\n",
    "import xml.etree.ElementTree as ET\n",
    "tree = ET.parse(xml_path)\n",
    "root = tree.getroot()\n",
    "tags_list = root.findall('list')\n",
    "\n",
    "# DataFrame\n",
    "def convert(tag: ET.Element) -> dict:\n",
    "    conv = {}\n",
    "    for child in list(tag):\n",
    "        conv[child.tag] = child.text\n",
    "    return conv\n",
    "\n",
    "tags_list_dict = [convert(x) for x in tags_list]\n",
    "df = pd.DataFrame(tags_list_dict)\n",
    "df.replace(' ', np.NaN, inplace=True)"
   ]
  },
  {
   "cell_type": "code",
   "execution_count": 5,
   "id": "1e196da4",
   "metadata": {},
   "outputs": [],
   "source": [
    "def find_code(df, target):\n",
    "    return (df[df['corp_name']==target]['corp_code'])"
   ]
  },
  {
   "cell_type": "code",
   "execution_count": 6,
   "id": "4b15dd18",
   "metadata": {},
   "outputs": [],
   "source": [
    "stk_names = pd.read_csv(\"ksp_20231204.csv\",header=0, encoding='cp949')\n",
    "stk_names = stk_names['STK_NM'].to_list()"
   ]
  },
  {
   "cell_type": "code",
   "execution_count": 7,
   "id": "4da6f2cd",
   "metadata": {},
   "outputs": [],
   "source": [
    "stk_list = []\n",
    "for i in range(len(stk_names)):\n",
    "    stk = stk_names[i]\n",
    "    names = find_code(df, stk)\n",
    "    stk_list = np.append(stk_list, names)"
   ]
  },
  {
   "cell_type": "code",
   "execution_count": 8,
   "id": "3b5ac9d8",
   "metadata": {},
   "outputs": [
    {
     "data": {
      "text/plain": [
       "'00119195'"
      ]
     },
     "execution_count": 8,
     "metadata": {},
     "output_type": "execute_result"
    }
   ],
   "source": [
    "stk_list[0]"
   ]
  },
  {
   "cell_type": "markdown",
   "id": "7f33d3a1",
   "metadata": {},
   "source": [
    "### functions"
   ]
  },
  {
   "cell_type": "code",
   "execution_count": 9,
   "id": "9df38ac4",
   "metadata": {},
   "outputs": [],
   "source": [
    "# 증권신고서 주요정보 - 지분증권 OpenAPI 호출\n",
    "def API_info(stock, api_key = api_key):\n",
    "    url = \"https://opendart.fss.or.kr/api/accnutAdtorNmNdAdtOpinion.json\"\n",
    "    params = {\n",
    "        \"crtfc_key\": api_key,\n",
    "        \"corp_code\": stock,\n",
    "        \"bsns_year\": \"2022\",\n",
    "        \"reprt_code\": \"11011\"\n",
    "    }\n",
    "    response = requests.get(url, params=params)\n",
    "    return response"
   ]
  },
  {
   "cell_type": "code",
   "execution_count": 10,
   "id": "54bb6570",
   "metadata": {},
   "outputs": [],
   "source": [
    "# 그룹별로 나누기\n",
    "def by_group(data):\n",
    "    json = data.json()\n",
    "    group_list = []\n",
    "    for group in json.get('group'):\n",
    "        title = group.get('title')\n",
    "        tag_list = group.get('list')\n",
    "        group_list.append({'title': title, 'list': tag_list})\n",
    "    return group_list"
   ]
  },
  {
   "cell_type": "code",
   "execution_count": 70,
   "id": "8d23b6d7",
   "metadata": {},
   "outputs": [
    {
     "ename": "KeyError",
     "evalue": "'emphs_matter'",
     "output_type": "error",
     "traceback": [
      "\u001b[1;31m---------------------------------------------------------------------------\u001b[0m",
      "\u001b[1;31mKeyError\u001b[0m                                  Traceback (most recent call last)",
      "\u001b[1;32m<ipython-input-70-55704b5730b6>\u001b[0m in \u001b[0;36m<module>\u001b[1;34m\u001b[0m\n\u001b[0;32m      7\u001b[0m \u001b[0mrcept_no\u001b[0m \u001b[1;33m=\u001b[0m \u001b[0ma\u001b[0m\u001b[1;33m.\u001b[0m\u001b[0mget\u001b[0m\u001b[1;33m(\u001b[0m\u001b[1;34m'list'\u001b[0m\u001b[1;33m)\u001b[0m\u001b[1;33m[\u001b[0m\u001b[1;36m0\u001b[0m\u001b[1;33m]\u001b[0m\u001b[1;33m[\u001b[0m\u001b[1;34m'rcept_no'\u001b[0m\u001b[1;33m]\u001b[0m\u001b[1;33m\u001b[0m\u001b[1;33m\u001b[0m\u001b[0m\n\u001b[0;32m      8\u001b[0m \u001b[0maud_opn\u001b[0m  \u001b[1;33m=\u001b[0m \u001b[0ma\u001b[0m\u001b[1;33m.\u001b[0m\u001b[0mget\u001b[0m\u001b[1;33m(\u001b[0m\u001b[1;34m'list'\u001b[0m\u001b[1;33m)\u001b[0m\u001b[1;33m[\u001b[0m\u001b[1;36m0\u001b[0m\u001b[1;33m]\u001b[0m\u001b[1;33m[\u001b[0m\u001b[1;34m'adt_opinion'\u001b[0m\u001b[1;33m]\u001b[0m\u001b[1;33m\u001b[0m\u001b[1;33m\u001b[0m\u001b[0m\n\u001b[1;32m----> 9\u001b[1;33m \u001b[0memphs\u001b[0m    \u001b[1;33m=\u001b[0m \u001b[0ma\u001b[0m\u001b[1;33m.\u001b[0m\u001b[0mget\u001b[0m\u001b[1;33m(\u001b[0m\u001b[1;34m'list'\u001b[0m\u001b[1;33m)\u001b[0m\u001b[1;33m[\u001b[0m\u001b[1;36m0\u001b[0m\u001b[1;33m]\u001b[0m\u001b[1;33m[\u001b[0m\u001b[1;34m'emphs_matter'\u001b[0m\u001b[1;33m]\u001b[0m\u001b[1;33m\u001b[0m\u001b[1;33m\u001b[0m\u001b[0m\n\u001b[0m",
      "\u001b[1;31mKeyError\u001b[0m: 'emphs_matter'"
     ]
    }
   ],
   "source": [
    "i = 2\n",
    "stkk = stk_list[i]\n",
    "response = API_info(stkk)\n",
    "a = response.json()\n",
    "\n",
    "stk_name = a.get('list')[0]['corp_name']\n",
    "rcept_no = a.get('list')[0]['rcept_no']\n",
    "aud_opn  = a.get('list')[0]['adt_opinion']\n",
    "emphs    = a.get('list')[0]['emphs_matter']"
   ]
  },
  {
   "cell_type": "code",
   "execution_count": 11,
   "id": "3ffe75b0",
   "metadata": {},
   "outputs": [
    {
     "name": "stdout",
     "output_type": "stream",
     "text": [
      "[nan, nan, nan, nan]\n",
      "[nan, nan, nan, nan]\n",
      "[nan, nan, nan, nan]\n",
      "['삼양홀딩스', '20230316001063', '적정', '해당사항없음']\n",
      "['하이트진로', '20230316001349', '적정', '해당사항없음']\n",
      "['유한양행', '20230315001431', '적정', '해당사항 없음']\n",
      "['하이트진로홀딩스', '20230316001297', '적정', '특기사항 없음']\n",
      "[nan, nan, nan, nan]\n",
      "[nan, nan, nan, nan]\n",
      "['DL', '20230728000644', '적정', '- 연결재무제표 재작성\\n- 재무제표 재작성']\n",
      "['유유제약', '20230322001027', '적정', '해당사항 없음']\n",
      "['일동홀딩스', '20230316001183', '적정', '우리의 의견으로는 별첨된 회사의 재무제표는 회사의 2022년 12월 31일 및 2021년 12월 31일 현재의 재무상태와 동일로 종료되는 양 보고기간의 재무성과 및 현금흐름을 한국채택국제회계기준에 따라, 중요성의 관점에서 공정하게 표시하고 있습니다.']\n",
      "['한국앤컴퍼니', '20230324001090', '적정', '해당사항 없음']\n",
      "[nan, nan, nan, nan]\n",
      "['기아', '20230309000734', '적 정', '해당사항 없음']\n",
      "[nan, nan, nan, nan]\n",
      "['대유플러스', '20230324000003', '적정', '1) 계속기업가정의 불확실성']\n",
      "['노루홀딩스', '20230316001033', '적정', '해당사항 없음']\n",
      "['한화손해보험', '20230314001218', '적정의견', '강조사항 없음']\n",
      "['삼화페인트공업', '20230316001290', '적정', '해당사항 없음']\n",
      "['롯데손해보험', '20230323001495', '적정', 'COVID-19 불확실성 증대에 따른\\n감사보고서 이용자의 주의를 요하는 사항 ']\n",

      "['세원정공', '20230228006867', '적정', '해당사항 없음']\n",
      "['삼원강재', '20230314000085', '적정', '해당사항 없음']\n",
      "['MH에탄올', '20230315001383', '적정의견', '해당사항없음']\n",
      "['한국종합기술', '20230316001234', '적정', '해당사항 없음']\n",
      "[nan, nan, nan, nan]\n"
     ]
    },
    {
     "name": "stdout",
     "output_type": "stream",
     "text": [
      "[nan, nan, nan, nan]\n",
      "[nan, nan, nan, nan]\n",
      "['인지컨트롤스', '20230324001000', '적정', '해당사항없음']\n",
      "['인팩', '20230322000936', '적정', '해당사항 없음']\n",
      "[nan, nan, nan, nan]\n",
      "['WISCOM', '20230316000445', '적정', '해당사항없음']\n",
      "[nan, nan, nan, nan]\n",
      "['디씨엠', '20230315000573', '적정', '\"해당사항 없음\"']\n",
      "['한국콜마홀딩스', '20230321001245', '적정', '해당사항 없음']\n",
      "[nan, nan, nan, nan]\n",
      "['대원화성', '20230316001139', '적정', '없음']\n",
      "[nan, nan, nan, nan]\n",
      "['KPX케미칼', '20230316000950', '적정', '해당사항 없음']\n",
      "[nan, nan, nan, nan]\n",
      "[nan, nan, nan, nan]\n",
      "[nan, nan, nan, nan]\n",
      "[nan, nan, nan, nan]\n",
      "['미래산업', '20230320000617', '적정', '해당사항 없음']\n",
      "['제이준코스메틱', '20230322001335', '적정', '(1) 주요자산 취득에 대한 검토']\n",
      "[nan, nan, nan, nan]\n",
      "[nan, nan, nan, nan]\n",
      "['남해화학', '20230316001430', '적 정', '해당 사항 없음']\n",
      "[nan, nan, nan, nan]\n",
      "[nan, nan, nan, nan]\n",
      "[nan, nan, nan, nan]\n",
      "[nan, nan, nan, nan]\n",
      "['부국철강', '20230323000263', '적정', '지적사항 없음']\n",
      "[nan, nan, nan, nan]\n",
      "[nan, nan, nan, nan]\n",
      "['동서', '20230316000463', '적정', '해당사항 없음']\n",
      "[nan, nan, nan, nan]\n",
      "['BGF', '20230320000850', '적정', '해당사항 없음']\n",
      "['마니커', '20230317000904', '적 정', '해당사항 없음']\n",
      "[nan, nan, nan, nan]\n",
      "[nan, nan, nan, nan]\n",
      "['한국제지', '20230316000858', '적정', '해당사항없음']\n",
      "['삼성엔지니어링', '20230831001403', '적정', '해당사항 없음']\n",
      "['동아지질', '20230320001020', '적정의견(별도,연결)', '해당사항 없음']\n",
      "[nan, nan, nan, nan]\n",
      "[nan, nan, nan, nan]\n",
      "['팬오션', '20230321001130', '적정', '해당사항 없음']\n",
      "[nan, nan, nan, nan]\n"
     ]
    },
    {
     "ename": "SSLError",
     "evalue": "HTTPSConnectionPool(host='opendart.fss.or.kr', port=443): Max retries exceeded with url: /api/accnutAdtorNmNdAdtOpinion.json?crtfc_key=b328110a98b1c7a1cf44a732ba4a9bb4c1f133df&corp_code=01012206&bsns_year=2022&reprt_code=11011 (Caused by SSLError(SSLEOFError(8, 'EOF occurred in violation of protocol (_ssl.c:1125)')))",
     "output_type": "error",
     "traceback": [
      "\u001b[1;31m---------------------------------------------------------------------------\u001b[0m",
      ]
    }
   ],
   "source": [
    "#imsi = pd.DataFrame(columns=['STK_NM','RCEPT','AUD','EMPHS'])\n",
    "imsi = []\n",
    "\n",
    "for i in range(len(stk_list)):\n",
    "    stkk = stk_list[i]\n",
    "    response = API_info(stkk)\n",
    "    a = response.json()\n",
    "    \n",
    "    try:\n",
    "        stk_name = a.get('list')[0]['corp_name']\n",
    "        rcept_no = a.get('list')[0]['rcept_no']\n",
    "        aud_opn  = a.get('list')[0]['adt_opinion']\n",
    "        emphs    = a.get('list')[0]['emphs_matter']\n",
    "        \n",
    "    except TypeError:\n",
    "        stk_name = np.NaN\n",
    "        rcept_no = np.NaN\n",
    "        aud_opn = np.NaN\n",
    "        emphs = np.NaN        \n",
    "    \n",
    "    except KeyError:\n",
    "        stk_name = np.NaN\n",
    "        rcept_no = np.NaN\n",
    "        aud_opn = np.NaN\n",
    "        emphs = np.NaN\n",
    "    b = [stk_name, rcept_no, aud_opn, emphs]\n",
    "    print(b)\n",
    "    imsi = np.append(imsi,b)\n",
    "    "
   ]
  },
  {
   "cell_type": "code",
   "execution_count": 12,
   "id": "1c3b9bd7",
   "metadata": {},
   "outputs": [
    {
     "data": {
      "text/plain": [
       "array(['nan', 'nan', 'nan', ..., 'nan', 'nan', 'nan'], dtype='<U688')"
      ]
     },
     "execution_count": 12,
     "metadata": {},
     "output_type": "execute_result"
    }
   ],
   "source": [
    "imsi"
   ]
  },
  {
   "cell_type": "code",
   "execution_count": 14,
   "id": "b7861f20",
   "metadata": {},
   "outputs": [
    {
     "data": {
      "text/plain": [
       "613.0"
      ]
     },
     "execution_count": 14,
     "metadata": {},
     "output_type": "execute_result"
    }
   ],
   "source": [
    "len(imsi)/4"
   ]
  },
  {
   "cell_type": "code",
   "execution_count": 15,
   "id": "4e606410",
   "metadata": {},
   "outputs": [
    {
     "data": {
      "text/plain": [
       "array([['nan', 'nan', 'nan', 'nan'],\n",
       "       ['nan', 'nan', 'nan', 'nan'],\n",
       "       ['nan', 'nan', 'nan', 'nan'],\n",
       "       ...,\n",
       "       ['nan', 'nan', 'nan', 'nan'],\n",
       "       ['팬오션', '20230321001130', '적정', '해당사항 없음'],\n",
       "       ['nan', 'nan', 'nan', 'nan']], dtype='<U688')"
      ]
     },
     "execution_count": 15,
     "metadata": {},
     "output_type": "execute_result"
    }
   ],
   "source": [
    "imsi.reshape(613,4)"
   ]
  },
  {
   "cell_type": "code",
   "execution_count": 18,
   "id": "6ce9becf",
   "metadata": {},
   "outputs": [],
   "source": [
    "dd = pd.DataFrame(imsi.reshape(613,4))\n",
    "dd.columns = ['STK_NM','RCEPT','AUD','EMPHS']\n",
    "dd_ = dd.dropna()"
   ]
  },
  {
   "cell_type": "code",
   "execution_count": 24,
   "id": "540bb418",
   "metadata": {},
   "outputs": [
    {
     "data": {
      "text/html": [
       "<div>\n",
       "<style scoped>\n",
       "    .dataframe tbody tr th:only-of-type {\n",
       "        vertical-align: middle;\n",
       "    }\n",
       "\n",
       "    .dataframe tbody tr th {\n",
       "        vertical-align: top;\n",
       "    }\n",
       "\n",
       "    .dataframe thead th {\n",
       "        text-align: right;\n",
       "    }\n",
       "</style>\n",
       "<table border=\"1\" class=\"dataframe\">\n",
       "  <thead>\n",
       "    <tr style=\"text-align: right;\">\n",
       "      <th></th>\n",
       "      <th>STK_NM</th>\n",
       "      <th>RCEPT</th>\n",
       "      <th>AUD</th>\n",
       "      <th>EMPHS</th>\n",
       "    </tr>\n",
       "  </thead>\n",
       "  <tbody>\n",
       "    <tr>\n",
       "      <th>16</th>\n",
       "      <td>대유플러스</td>\n",
       "      <td>20230324000003</td>\n",
       "      <td>적정</td>\n",
       "      <td>1) 계속기업가정의 불확실성</td>\n",
       "    </tr>\n",
       "    <tr>\n",
       "      <th>57</th>\n",
       "      <td>페이퍼코리아</td>\n",
       "      <td>20230323001248</td>\n",
       "      <td>적정</td>\n",
       "      <td>계속기업 관련\\n중요한 불확실성</td>\n",
       "    </tr>\n",
       "    <tr>\n",
       "      <th>65</th>\n",
       "      <td>국보</td>\n",
       "      <td>20230814002776</td>\n",
       "      <td>적정</td>\n",
       "      <td>계속기업 관련 중요한 불확실성\\n\\n[연결감사보고서]\\n연결재무제표에 대한 주석 4...</td>\n",
       "    </tr>\n",
       "    <tr>\n",
       "      <th>66</th>\n",
       "      <td>금호전기</td>\n",
       "      <td>20230321001127</td>\n",
       "      <td>적정</td>\n",
       "      <td>계속기업 관련 중요한 불확실성</td>\n",
       "    </tr>\n",
       "    <tr>\n",
       "      <th>273</th>\n",
       "      <td>부산주공</td>\n",
       "      <td>20230323001492</td>\n",
       "      <td>적정</td>\n",
       "      <td>계속기업 관련 중요한 불확실성</td>\n",
       "    </tr>\n",
       "    <tr>\n",
       "      <th>278</th>\n",
       "      <td>한창</td>\n",
       "      <td>20230330001135</td>\n",
       "      <td>적정</td>\n",
       "      <td>계속기업 관련 중요한 불확실성</td>\n",
       "    </tr>\n",
       "    <tr>\n",
       "      <th>328</th>\n",
       "      <td>대구백화점</td>\n",
       "      <td>20230412001808</td>\n",
       "      <td>적정</td>\n",
       "      <td>-계속기업 가정의 중요한 불확실성\\n보고기간 손실 발생 및 장기차입금의 유동성 대체...</td>\n",
       "    </tr>\n",
       "    <tr>\n",
       "      <th>339</th>\n",
       "      <td>AK홀딩스</td>\n",
       "      <td>20230323001504</td>\n",
       "      <td>적정</td>\n",
       "      <td>부문의 계속기업가정의 불확실성</td>\n",
       "    </tr>\n",
       "    <tr>\n",
       "      <th>441</th>\n",
       "      <td>삼화전자공업</td>\n",
       "      <td>20231017000217</td>\n",
       "      <td>적정</td>\n",
       "      <td>계속기업 관련 중요한 불확실성</td>\n",
       "    </tr>\n",
       "    <tr>\n",
       "      <th>458</th>\n",
       "      <td>STX</td>\n",
       "      <td>20230323001138</td>\n",
       "      <td>적정</td>\n",
       "      <td>감사의견에는 영향을 미치지 않는 사항으로서,\\n이용자는 계속기업 관련 중요한 불확실...</td>\n",
       "    </tr>\n",
       "    <tr>\n",
       "      <th>471</th>\n",
       "      <td>청호ICT</td>\n",
       "      <td>20230323000135</td>\n",
       "      <td>적정</td>\n",
       "      <td>계속기업불확실성, 상장적격성심사 및 주권매매정지 등</td>\n",
       "    </tr>\n",
       "    <tr>\n",
       "      <th>545</th>\n",
       "      <td>동원금속</td>\n",
       "      <td>20220620000208</td>\n",
       "      <td>적정</td>\n",
       "      <td>계속기업 관련\\n중요한 불확실성</td>\n",
       "    </tr>\n",
       "    <tr>\n",
       "      <th>557</th>\n",
       "      <td>아시아나항공</td>\n",
       "      <td>20230829000707</td>\n",
       "      <td>적정</td>\n",
       "      <td>계속기업 관련 중요한 불확실성</td>\n",
       "    </tr>\n",
       "  </tbody>\n",
       "</table>\n",
       "</div>"
      ],
      "text/plain": [
       "     STK_NM           RCEPT AUD  \\\n",
       "16    대유플러스  20230324000003  적정   \n",
       "57   페이퍼코리아  20230323001248  적정   \n",
       "65       국보  20230814002776  적정   \n",
       "66     금호전기  20230321001127  적정   \n",
       "273    부산주공  20230323001492  적정   \n",
       "278      한창  20230330001135  적정   \n",
       "328   대구백화점  20230412001808  적정   \n",
       "339   AK홀딩스  20230323001504  적정   \n",
       "441  삼화전자공업  20231017000217  적정   \n",
       "458     STX  20230323001138  적정   \n",
       "471   청호ICT  20230323000135  적정   \n",
       "545    동원금속  20220620000208  적정   \n",
       "557  아시아나항공  20230829000707  적정   \n",
       "\n",
       "                                                 EMPHS  \n",
       "16                                     1) 계속기업가정의 불확실성  \n",
       "57                                   계속기업 관련\\n중요한 불확실성  \n",
       "65   계속기업 관련 중요한 불확실성\\n\\n[연결감사보고서]\\n연결재무제표에 대한 주석 4...  \n",
       "66                                    계속기업 관련 중요한 불확실성  \n",
       "273                                   계속기업 관련 중요한 불확실성  \n",
       "278                                   계속기업 관련 중요한 불확실성  \n",
       "328  -계속기업 가정의 중요한 불확실성\\n보고기간 손실 발생 및 장기차입금의 유동성 대체...  \n",
       "339                                   부문의 계속기업가정의 불확실성  \n",
       "441                                   계속기업 관련 중요한 불확실성  \n",
       "458  감사의견에는 영향을 미치지 않는 사항으로서,\\n이용자는 계속기업 관련 중요한 불확실...  \n",
       "471                       계속기업불확실성, 상장적격성심사 및 주권매매정지 등  \n",
       "545                                  계속기업 관련\\n중요한 불확실성  \n",
       "557                                   계속기업 관련 중요한 불확실성  "
      ]
     },
     "execution_count": 24,
     "metadata": {},
     "output_type": "execute_result"
    }
   ],
   "source": [
    "dd_[dd_['EMPHS'].str.contains('계속기업')]"
   ]
  },
  {
   "cell_type": "code",
   "execution_count": 23,
   "id": "d9be3605",
   "metadata": {},
   "outputs": [],
   "source": [
    "dd.to_csv(\"Tdart_20231204.csv\", encoding='cp949')"
   ]
  },
  {
   "cell_type": "code",
   "execution_count": 25,
   "id": "2d3f5325",
   "metadata": {},
   "outputs": [],
   "source": [
    "dd_[dd_['EMPHS'].str.contains('계속기업')].to_csv(\"dart_example.csv\", encoding='cp949')"
   ]
  },
  {
   "cell_type": "code",
   "execution_count": null,
   "id": "26b4c470",
   "metadata": {},
   "outputs": [],
   "source": []
  },
  {
   "cell_type": "code",
   "execution_count": null,
   "id": "90642304",
   "metadata": {},
   "outputs": [],
   "source": []
  }
 ],
 "metadata": {
  "kernelspec": {
   "display_name": "Python 3",
   "language": "python",
   "name": "python3"
  },
  "language_info": {
   "codemirror_mode": {
    "name": "ipython",
    "version": 3
   },
   "file_extension": ".py",
   "mimetype": "text/x-python",
   "name": "python",
   "nbconvert_exporter": "python",
   "pygments_lexer": "ipython3",
   "version": "3.8.8"
  }
 },
 "nbformat": 4,
 "nbformat_minor": 5
}
