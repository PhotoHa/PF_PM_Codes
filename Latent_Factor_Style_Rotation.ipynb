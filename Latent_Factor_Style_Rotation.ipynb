{
 "cells": [
  {
   "cell_type": "markdown",
   "metadata": {},
   "source": [
    "## Latent Factor Analysis - Factor Style Rotation"
   ]
  },
  {
   "cell_type": "code",
   "execution_count": 2,
   "metadata": {},
   "outputs": [],
   "source": [
    "import numpy as np\n",
    "import pandas as pd\n",
    "from sklearn.preprocessing import StandardScaler\n",
    "from sklearn.preprocessing import MinMaxScaler\n",
    "from sklearn.decomposition import NMF\n",
    "import pyodbc\n",
    "import pickle\n",
    "import os\n",
    "os.chdir('T:\\\\index\\\\95_곽용하\\\\운용\\\\코드\\\\')\n",
    "import mf_3 as mf\n",
    "\n",
    "# DATABASE\n",
    "conn_quant = pyodbc.connect('driver={SQL Server};server=46.2.90.172;database=quant;uid=index;pwd=samsung@00')\n",
    "conn_wisefn = pyodbc.connect('driver={SQL Server};server=46.2.90.172;database=wisefn;uid=index;pwd=samsung@00')"
   ]
  },
  {
   "cell_type": "markdown",
   "metadata": {},
   "source": [
    "### Data"
   ]
  },
  {
   "cell_type": "code",
   "execution_count": 3,
   "metadata": {},
   "outputs": [],
   "source": [
    "open_path = 'T:\\\\index\\\\999_quant\\\\run_kyh\\\\sector_data\\\\'\n",
    "\n",
    "with open(open_path+'daily_factor_fwdrtn.pkl', 'rb') as f:\n",
    "    df00 = pickle.load(f)"
   ]
  },
  {
   "cell_type": "code",
   "execution_count": 17,
   "metadata": {},
   "outputs": [
    {
     "name": "stderr",
     "output_type": "stream",
     "text": [
      "c:\\Users\\11149\\Anaconda3\\envs\\algo_trd\\lib\\site-packages\\sklearn\\utils\\validation.py:1688: FutureWarning: Feature names only support names that are all strings. Got feature names with dtypes: ['Timestamp']. An error will be raised in 1.2.\n",
      "  warnings.warn(\n",
      "c:\\Users\\11149\\Anaconda3\\envs\\algo_trd\\lib\\site-packages\\sklearn\\utils\\validation.py:1688: FutureWarning: Feature names only support names that are all strings. Got feature names with dtypes: ['Timestamp']. An error will be raised in 1.2.\n",
      "  warnings.warn(\n"
     ]
    }
   ],
   "source": [
    "# 0~1 사이의 값으로 변환\n",
    "df00_mm = df00.copy()\n",
    "minmax_scaler = MinMaxScaler()\n",
    "df00_mm = minmax_scaler.fit_transform(df00_mm.transpose())\n",
    "df00_mm = df00_mm.transpose()\n",
    "\n",
    "SRM = df00_mm.copy()"
   ]
  },
  {
   "cell_type": "markdown",
   "metadata": {},
   "source": [
    "#### Step 1a: Matrix Factorization - Decompose SRM into DCM and SCM"
   ]
  },
  {
   "cell_type": "code",
   "execution_count": 28,
   "metadata": {},
   "outputs": [],
   "source": [
    "num_latent_factors = 4  # Number of latent factors\n",
    "nmf_model = NMF(n_components=num_latent_factors, init='random', random_state=42)\n",
    "DCM = nmf_model.fit_transform(SRM)\n",
    "SCM = nmf_model.components_"
   ]
  },
  {
   "cell_type": "code",
   "execution_count": 29,
   "metadata": {},
   "outputs": [],
   "source": [
    "df_dcm = pd.DataFrame(DCM, index=df00.index, columns=['RGM_'+ str(x+1) for x in range(num_latent_factors)])\n",
    "df_scm = pd.DataFrame(SCM, index=['RGM_'+ str(x+1) for x in range(num_latent_factors)], columns=df00.columns)"
   ]
  },
  {
   "cell_type": "code",
   "execution_count": 30,
   "metadata": {},
   "outputs": [
    {
     "data": {
      "text/html": [
       "<div>\n",
       "<style scoped>\n",
       "    .dataframe tbody tr th:only-of-type {\n",
       "        vertical-align: middle;\n",
       "    }\n",
       "\n",
       "    .dataframe tbody tr th {\n",
       "        vertical-align: top;\n",
       "    }\n",
       "\n",
       "    .dataframe thead th {\n",
       "        text-align: right;\n",
       "    }\n",
       "</style>\n",
       "<table border=\"1\" class=\"dataframe\">\n",
       "  <thead>\n",
       "    <tr style=\"text-align: right;\">\n",
       "      <th></th>\n",
       "      <th>RGM_1</th>\n",
       "      <th>RGM_2</th>\n",
       "      <th>RGM_3</th>\n",
       "      <th>RGM_4</th>\n",
       "    </tr>\n",
       "    <tr>\n",
       "      <th>TRD_DT</th>\n",
       "      <th></th>\n",
       "      <th></th>\n",
       "      <th></th>\n",
       "      <th></th>\n",
       "    </tr>\n",
       "  </thead>\n",
       "  <tbody>\n",
       "    <tr>\n",
       "      <th>2006-01-31</th>\n",
       "      <td>1.536252</td>\n",
       "      <td>0.347715</td>\n",
       "      <td>0.523386</td>\n",
       "      <td>0.396093</td>\n",
       "    </tr>\n",
       "    <tr>\n",
       "      <th>2006-02-01</th>\n",
       "      <td>0.924354</td>\n",
       "      <td>0.000000</td>\n",
       "      <td>0.655369</td>\n",
       "      <td>0.569640</td>\n",
       "    </tr>\n",
       "    <tr>\n",
       "      <th>2006-02-02</th>\n",
       "      <td>1.463394</td>\n",
       "      <td>0.104572</td>\n",
       "      <td>0.887854</td>\n",
       "      <td>0.435596</td>\n",
       "    </tr>\n",
       "    <tr>\n",
       "      <th>2006-02-03</th>\n",
       "      <td>0.000000</td>\n",
       "      <td>0.973757</td>\n",
       "      <td>0.299522</td>\n",
       "      <td>0.551607</td>\n",
       "    </tr>\n",
       "    <tr>\n",
       "      <th>2006-02-06</th>\n",
       "      <td>0.774339</td>\n",
       "      <td>0.058031</td>\n",
       "      <td>0.663504</td>\n",
       "      <td>0.664878</td>\n",
       "    </tr>\n",
       "    <tr>\n",
       "      <th>...</th>\n",
       "      <td>...</td>\n",
       "      <td>...</td>\n",
       "      <td>...</td>\n",
       "      <td>...</td>\n",
       "    </tr>\n",
       "    <tr>\n",
       "      <th>2024-06-03</th>\n",
       "      <td>0.641350</td>\n",
       "      <td>0.093445</td>\n",
       "      <td>0.840144</td>\n",
       "      <td>0.000000</td>\n",
       "    </tr>\n",
       "    <tr>\n",
       "      <th>2024-06-04</th>\n",
       "      <td>0.166418</td>\n",
       "      <td>0.000000</td>\n",
       "      <td>0.804718</td>\n",
       "      <td>0.098428</td>\n",
       "    </tr>\n",
       "    <tr>\n",
       "      <th>2024-06-05</th>\n",
       "      <td>0.000000</td>\n",
       "      <td>0.817224</td>\n",
       "      <td>0.239687</td>\n",
       "      <td>0.184330</td>\n",
       "    </tr>\n",
       "    <tr>\n",
       "      <th>2024-06-07</th>\n",
       "      <td>1.207265</td>\n",
       "      <td>1.112663</td>\n",
       "      <td>0.111941</td>\n",
       "      <td>0.429067</td>\n",
       "    </tr>\n",
       "    <tr>\n",
       "      <th>2024-06-10</th>\n",
       "      <td>0.349391</td>\n",
       "      <td>0.066880</td>\n",
       "      <td>0.789431</td>\n",
       "      <td>0.237958</td>\n",
       "    </tr>\n",
       "  </tbody>\n",
       "</table>\n",
       "<p>4534 rows × 4 columns</p>\n",
       "</div>"
      ],
      "text/plain": [
       "               RGM_1     RGM_2     RGM_3     RGM_4\n",
       "TRD_DT                                            \n",
       "2006-01-31  1.536252  0.347715  0.523386  0.396093\n",
       "2006-02-01  0.924354  0.000000  0.655369  0.569640\n",
       "2006-02-02  1.463394  0.104572  0.887854  0.435596\n",
       "2006-02-03  0.000000  0.973757  0.299522  0.551607\n",
       "2006-02-06  0.774339  0.058031  0.663504  0.664878\n",
       "...              ...       ...       ...       ...\n",
       "2024-06-03  0.641350  0.093445  0.840144  0.000000\n",
       "2024-06-04  0.166418  0.000000  0.804718  0.098428\n",
       "2024-06-05  0.000000  0.817224  0.239687  0.184330\n",
       "2024-06-07  1.207265  1.112663  0.111941  0.429067\n",
       "2024-06-10  0.349391  0.066880  0.789431  0.237958\n",
       "\n",
       "[4534 rows x 4 columns]"
      ]
     },
     "execution_count": 30,
     "metadata": {},
     "output_type": "execute_result"
    }
   ],
   "source": [
    "df_dcm"
   ]
  },
  {
   "cell_type": "code",
   "execution_count": 31,
   "metadata": {},
   "outputs": [
    {
     "data": {
      "text/html": [
       "<div>\n",
       "<style scoped>\n",
       "    .dataframe tbody tr th:only-of-type {\n",
       "        vertical-align: middle;\n",
       "    }\n",
       "\n",
       "    .dataframe tbody tr th {\n",
       "        vertical-align: top;\n",
       "    }\n",
       "\n",
       "    .dataframe thead th {\n",
       "        text-align: right;\n",
       "    }\n",
       "</style>\n",
       "<table border=\"1\" class=\"dataframe\">\n",
       "  <thead>\n",
       "    <tr style=\"text-align: right;\">\n",
       "      <th>FactorGroup_sub</th>\n",
       "      <th>Growth</th>\n",
       "      <th>Market</th>\n",
       "      <th>Price Momentum</th>\n",
       "      <th>Price-reversal</th>\n",
       "      <th>Profitability</th>\n",
       "      <th>Sentiment</th>\n",
       "      <th>Stability</th>\n",
       "      <th>Value</th>\n",
       "    </tr>\n",
       "  </thead>\n",
       "  <tbody>\n",
       "    <tr>\n",
       "      <th>RGM_1</th>\n",
       "      <td>0.000000</td>\n",
       "      <td>0.688222</td>\n",
       "      <td>0.000000</td>\n",
       "      <td>0.000000</td>\n",
       "      <td>0.200128</td>\n",
       "      <td>0.024476</td>\n",
       "      <td>0.081186</td>\n",
       "      <td>0.000000</td>\n",
       "    </tr>\n",
       "    <tr>\n",
       "      <th>RGM_2</th>\n",
       "      <td>0.539491</td>\n",
       "      <td>0.000000</td>\n",
       "      <td>0.900481</td>\n",
       "      <td>0.000000</td>\n",
       "      <td>0.493471</td>\n",
       "      <td>0.620535</td>\n",
       "      <td>0.119505</td>\n",
       "      <td>0.000000</td>\n",
       "    </tr>\n",
       "    <tr>\n",
       "      <th>RGM_3</th>\n",
       "      <td>0.532812</td>\n",
       "      <td>0.000000</td>\n",
       "      <td>0.000000</td>\n",
       "      <td>1.132657</td>\n",
       "      <td>0.295494</td>\n",
       "      <td>0.000000</td>\n",
       "      <td>0.047362</td>\n",
       "      <td>0.115622</td>\n",
       "    </tr>\n",
       "    <tr>\n",
       "      <th>RGM_4</th>\n",
       "      <td>0.000000</td>\n",
       "      <td>0.116003</td>\n",
       "      <td>0.160610</td>\n",
       "      <td>0.053805</td>\n",
       "      <td>0.000000</td>\n",
       "      <td>0.525065</td>\n",
       "      <td>1.098436</td>\n",
       "      <td>1.383704</td>\n",
       "    </tr>\n",
       "  </tbody>\n",
       "</table>\n",
       "</div>"
      ],
      "text/plain": [
       "FactorGroup_sub    Growth    Market  Price Momentum  Price-reversal   \n",
       "RGM_1            0.000000  0.688222        0.000000        0.000000  \\\n",
       "RGM_2            0.539491  0.000000        0.900481        0.000000   \n",
       "RGM_3            0.532812  0.000000        0.000000        1.132657   \n",
       "RGM_4            0.000000  0.116003        0.160610        0.053805   \n",
       "\n",
       "FactorGroup_sub  Profitability  Sentiment  Stability     Value  \n",
       "RGM_1                 0.200128   0.024476   0.081186  0.000000  \n",
       "RGM_2                 0.493471   0.620535   0.119505  0.000000  \n",
       "RGM_3                 0.295494   0.000000   0.047362  0.115622  \n",
       "RGM_4                 0.000000   0.525065   1.098436  1.383704  "
      ]
     },
     "execution_count": 31,
     "metadata": {},
     "output_type": "execute_result"
    }
   ],
   "source": [
    "df_scm"
   ]
  },
  {
   "cell_type": "markdown",
   "metadata": {},
   "source": [
    "#### Step 2a: Time Series Modeling - Predict future values of latent features"
   ]
  },
  {
   "cell_type": "code",
   "execution_count": 32,
   "metadata": {},
   "outputs": [],
   "source": [
    "\n",
    "# For simplicity, we use ARIMA to predict future values of each latent factor\n",
    "\n",
    "def predict_future_latent_features(DCM, num_future_periods=1):\n",
    "    from statsmodels.tsa.arima.model import ARIMA\n",
    "    future_DCM = np.zeros((num_future_periods, DCM.shape[1]))\n",
    "    for k in range(DCM.shape[1]):\n",
    "        model = ARIMA(DCM[:, k], order=(1, 1, 1))  # ARIMA model order can be tuned\n",
    "        fitted_model = model.fit()\n",
    "        future_values = fitted_model.forecast(steps=num_future_periods)\n",
    "        future_DCM[:, k] = future_values\n",
    "    return future_DCM"
   ]
  },
  {
   "cell_type": "code",
   "execution_count": 33,
   "metadata": {},
   "outputs": [],
   "source": [
    "num_future_periods = 1\n",
    "future_DCM = predict_future_latent_features(DCM, num_future_periods)"
   ]
  },
  {
   "cell_type": "code",
   "execution_count": 34,
   "metadata": {},
   "outputs": [
    {
     "data": {
      "text/plain": [
       "array([[0.655511  , 0.47943971, 0.44608087, 0.33674052]])"
      ]
     },
     "execution_count": 34,
     "metadata": {},
     "output_type": "execute_result"
    }
   ],
   "source": [
    "future_DCM"
   ]
  },
  {
   "cell_type": "markdown",
   "metadata": {},
   "source": [
    "#### Step 3a: Estimate future returns based on the predicted market regime"
   ]
  },
  {
   "cell_type": "code",
   "execution_count": 35,
   "metadata": {},
   "outputs": [
    {
     "name": "stdout",
     "output_type": "stream",
     "text": [
      "Predicted future strategy returns (SRM):\n",
      "[[0.49633035 0.49020011 0.4858099  0.52337488 0.49958987 0.49036425\n",
      "  0.5015288  0.517526  ]]\n"
     ]
    }
   ],
   "source": [
    "\n",
    "future_SRM = np.dot(future_DCM, SCM)\n",
    "\n",
    "print(\"Predicted future strategy returns (SRM):\")\n",
    "print(future_SRM)"
   ]
  },
  {
   "cell_type": "markdown",
   "metadata": {},
   "source": [
    "### Step 4b: Incorporating Market Features (Optional step if market features data is available)"
   ]
  },
  {
   "cell_type": "code",
   "execution_count": null,
   "metadata": {},
   "outputs": [],
   "source": [
    "# We can extend this model to include market features as described in the paper"
   ]
  },
  {
   "cell_type": "code",
   "execution_count": 36,
   "metadata": {},
   "outputs": [],
   "source": [
    "path_daily = 'T:\\\\index\\\\999_quant\\\\__data_pkl\\\\kgh\\\\tmp_daily\\\\'\n",
    "with open(path_daily +'economy_all.pkl', 'rb') as f:\n",
    "    econ = pickle.load(f) #76개의 데이터 종류\n",
    "\n",
    "econ_pick = econ[['bnd_10y', 'bnd_1y', 'bnd_20y','bnd_3y','bnd_5y','cbnd_3y','cbnd_3y_jnk','cd_91d', #금리\n",
    "                    'usd','euro','yen', #통화\n",
    "                    ]] #경제성장\n",
    "\n",
    "# 변화율\n",
    "econ_pick_chg = econ_pick.pct_change(1).dropna()\n",
    "econ_pick_chg = econ_pick_chg.reset_index().rename(columns={'date':'TRD_DT'})\n",
    "econ_pick_chg['TRD_DT'] = pd.to_datetime(econ_pick_chg['TRD_DT'])\n",
    "econ_pick_chg = econ_pick_chg[econ_pick_chg['TRD_DT'].isin(df00.index)].reset_index(drop=True).set_index('TRD_DT')"
   ]
  },
  {
   "cell_type": "code",
   "execution_count": 38,
   "metadata": {},
   "outputs": [],
   "source": [
    "econ_pick_chg_1 = econ_pick_chg.copy()\n",
    "econ_pick_chg_1['ls_sprd_1'] = econ_pick_chg_1.bnd_20y - econ_pick_chg_1.bnd_3y\n",
    "econ_pick_chg_1['ls_sprd_2'] = econ_pick_chg_1.bnd_10y - econ_pick_chg_1.bnd_3y\n",
    "econ_pick_chg_1['ls_sprd_3'] = econ_pick_chg_1.bnd_3y - econ_pick_chg_1.bnd_1y\n",
    "econ_pick_chg_1['crdt_sprd_1'] = econ_pick_chg_1.cbnd_3y_jnk - econ_pick_chg_1.bnd_3y\n",
    "econ_pick_chg_1['crdt_sprd_2'] = econ_pick_chg_1.cbnd_3y - econ_pick_chg_1.bnd_3y\n",
    "econ_pick_chg_1['euro_dollar'] = econ_pick_chg_1.euro - econ_pick_chg_1.usd\n",
    "\n",
    "econ_pick_chg_1 = econ_pick_chg_1[['ls_sprd_1','ls_sprd_2','ls_sprd_3','crdt_sprd_1','crdt_sprd_2','cd_91d','euro_dollar','usd']]"
   ]
  },
  {
   "cell_type": "code",
   "execution_count": 45,
   "metadata": {},
   "outputs": [
    {
     "data": {
      "text/html": [
       "<div>\n",
       "<style scoped>\n",
       "    .dataframe tbody tr th:only-of-type {\n",
       "        vertical-align: middle;\n",
       "    }\n",
       "\n",
       "    .dataframe tbody tr th {\n",
       "        vertical-align: top;\n",
       "    }\n",
       "\n",
       "    .dataframe thead th {\n",
       "        text-align: right;\n",
       "    }\n",
       "</style>\n",
       "<table border=\"1\" class=\"dataframe\">\n",
       "  <thead>\n",
       "    <tr style=\"text-align: right;\">\n",
       "      <th>code</th>\n",
       "      <th>ls_sprd_1</th>\n",
       "      <th>ls_sprd_2</th>\n",
       "      <th>ls_sprd_3</th>\n",
       "      <th>crdt_sprd_1</th>\n",
       "      <th>crdt_sprd_2</th>\n",
       "      <th>cd_91d</th>\n",
       "      <th>euro_dollar</th>\n",
       "      <th>usd</th>\n",
       "    </tr>\n",
       "    <tr>\n",
       "      <th>TRD_DT</th>\n",
       "      <th></th>\n",
       "      <th></th>\n",
       "      <th></th>\n",
       "      <th></th>\n",
       "      <th></th>\n",
       "      <th></th>\n",
       "      <th></th>\n",
       "      <th></th>\n",
       "    </tr>\n",
       "  </thead>\n",
       "  <tbody>\n",
       "    <tr>\n",
       "      <th>2006-01-31</th>\n",
       "      <td>0.000289</td>\n",
       "      <td>0.000194</td>\n",
       "      <td>-0.002028</td>\n",
       "      <td>0.000922</td>\n",
       "      <td>0.002028</td>\n",
       "      <td>0.004808</td>\n",
       "      <td>-0.010025</td>\n",
       "      <td>0.003306</td>\n",
       "    </tr>\n",
       "    <tr>\n",
       "      <th>2006-02-01</th>\n",
       "      <td>-0.006098</td>\n",
       "      <td>-0.004932</td>\n",
       "      <td>-0.006098</td>\n",
       "      <td>-0.001654</td>\n",
       "      <td>-0.001283</td>\n",
       "      <td>0.004785</td>\n",
       "      <td>0.004499</td>\n",
       "      <td>-0.002472</td>\n",
       "    </tr>\n",
       "    <tr>\n",
       "      <th>2006-02-02</th>\n",
       "      <td>-0.000281</td>\n",
       "      <td>-0.000186</td>\n",
       "      <td>0.002045</td>\n",
       "      <td>-0.003161</td>\n",
       "      <td>-0.000186</td>\n",
       "      <td>0.002381</td>\n",
       "      <td>-0.006821</td>\n",
       "      <td>-0.007743</td>\n",
       "    </tr>\n",
       "    <tr>\n",
       "      <th>2006-02-03</th>\n",
       "      <td>-0.003162</td>\n",
       "      <td>-0.002783</td>\n",
       "      <td>0.005856</td>\n",
       "      <td>-0.004617</td>\n",
       "      <td>-0.004638</td>\n",
       "      <td>0.002375</td>\n",
       "      <td>0.002259</td>\n",
       "      <td>0.008948</td>\n",
       "    </tr>\n",
       "    <tr>\n",
       "      <th>2006-02-06</th>\n",
       "      <td>-0.001204</td>\n",
       "      <td>-0.001484</td>\n",
       "      <td>-0.004040</td>\n",
       "      <td>-0.000404</td>\n",
       "      <td>0.000350</td>\n",
       "      <td>0.004739</td>\n",
       "      <td>-0.004478</td>\n",
       "      <td>0.000928</td>\n",
       "    </tr>\n",
       "    <tr>\n",
       "      <th>...</th>\n",
       "      <td>...</td>\n",
       "      <td>...</td>\n",
       "      <td>...</td>\n",
       "      <td>...</td>\n",
       "      <td>...</td>\n",
       "      <td>...</td>\n",
       "      <td>...</td>\n",
       "      <td>...</td>\n",
       "    </tr>\n",
       "    <tr>\n",
       "      <th>2024-06-03</th>\n",
       "      <td>-0.011034</td>\n",
       "      <td>-0.007642</td>\n",
       "      <td>0.000651</td>\n",
       "      <td>0.003218</td>\n",
       "      <td>0.000564</td>\n",
       "      <td>0.000000</td>\n",
       "      <td>0.001714</td>\n",
       "      <td>0.003705</td>\n",
       "    </tr>\n",
       "    <tr>\n",
       "      <th>2024-06-04</th>\n",
       "      <td>-0.003124</td>\n",
       "      <td>-0.004741</td>\n",
       "      <td>-0.004848</td>\n",
       "      <td>0.008311</td>\n",
       "      <td>0.001653</td>\n",
       "      <td>-0.002770</td>\n",
       "      <td>0.005283</td>\n",
       "      <td>-0.002895</td>\n",
       "    </tr>\n",
       "    <tr>\n",
       "      <th>2024-06-05</th>\n",
       "      <td>0.005029</td>\n",
       "      <td>0.001747</td>\n",
       "      <td>-0.009111</td>\n",
       "      <td>0.008953</td>\n",
       "      <td>0.003038</td>\n",
       "      <td>0.000000</td>\n",
       "      <td>-0.002556</td>\n",
       "      <td>-0.003267</td>\n",
       "    </tr>\n",
       "    <tr>\n",
       "      <th>2024-06-07</th>\n",
       "      <td>-0.000815</td>\n",
       "      <td>-0.002058</td>\n",
       "      <td>-0.006582</td>\n",
       "      <td>0.007327</td>\n",
       "      <td>0.001780</td>\n",
       "      <td>0.000000</td>\n",
       "      <td>0.001105</td>\n",
       "      <td>-0.001165</td>\n",
       "    </tr>\n",
       "    <tr>\n",
       "      <th>2024-06-10</th>\n",
       "      <td>-0.000382</td>\n",
       "      <td>0.000577</td>\n",
       "      <td>0.005205</td>\n",
       "      <td>-0.009450</td>\n",
       "      <td>-0.001291</td>\n",
       "      <td>0.000000</td>\n",
       "      <td>-0.010435</td>\n",
       "      <td>-0.003354</td>\n",
       "    </tr>\n",
       "  </tbody>\n",
       "</table>\n",
       "<p>4534 rows × 8 columns</p>\n",
       "</div>"
      ],
      "text/plain": [
       "code        ls_sprd_1  ls_sprd_2  ls_sprd_3  crdt_sprd_1  crdt_sprd_2   \n",
       "TRD_DT                                                                  \n",
       "2006-01-31   0.000289   0.000194  -0.002028     0.000922     0.002028  \\\n",
       "2006-02-01  -0.006098  -0.004932  -0.006098    -0.001654    -0.001283   \n",
       "2006-02-02  -0.000281  -0.000186   0.002045    -0.003161    -0.000186   \n",
       "2006-02-03  -0.003162  -0.002783   0.005856    -0.004617    -0.004638   \n",
       "2006-02-06  -0.001204  -0.001484  -0.004040    -0.000404     0.000350   \n",
       "...               ...        ...        ...          ...          ...   \n",
       "2024-06-03  -0.011034  -0.007642   0.000651     0.003218     0.000564   \n",
       "2024-06-04  -0.003124  -0.004741  -0.004848     0.008311     0.001653   \n",
       "2024-06-05   0.005029   0.001747  -0.009111     0.008953     0.003038   \n",
       "2024-06-07  -0.000815  -0.002058  -0.006582     0.007327     0.001780   \n",
       "2024-06-10  -0.000382   0.000577   0.005205    -0.009450    -0.001291   \n",
       "\n",
       "code          cd_91d  euro_dollar       usd  \n",
       "TRD_DT                                       \n",
       "2006-01-31  0.004808    -0.010025  0.003306  \n",
       "2006-02-01  0.004785     0.004499 -0.002472  \n",
       "2006-02-02  0.002381    -0.006821 -0.007743  \n",
       "2006-02-03  0.002375     0.002259  0.008948  \n",
       "2006-02-06  0.004739    -0.004478  0.000928  \n",
       "...              ...          ...       ...  \n",
       "2024-06-03  0.000000     0.001714  0.003705  \n",
       "2024-06-04 -0.002770     0.005283 -0.002895  \n",
       "2024-06-05  0.000000    -0.002556 -0.003267  \n",
       "2024-06-07  0.000000     0.001105 -0.001165  \n",
       "2024-06-10  0.000000    -0.010435 -0.003354  \n",
       "\n",
       "[4534 rows x 8 columns]"
      ]
     },
     "execution_count": 45,
     "metadata": {},
     "output_type": "execute_result"
    }
   ],
   "source": [
    "econ_pick_chg_1"
   ]
  },
  {
   "cell_type": "code",
   "execution_count": 44,
   "metadata": {},
   "outputs": [],
   "source": [
    "MFM = econ_pick_chg_1.values"
   ]
  },
  {
   "cell_type": "code",
   "execution_count": 46,
   "metadata": {},
   "outputs": [],
   "source": [
    "# Additional matrix to relate market features to latent factors\n",
    "\n",
    "def relate_market_features_to_latent_factors(MFM, DCM):\n",
    "    from sklearn.linear_model import LinearRegression\n",
    "    FCM = np.zeros((num_latent_factors, len(econ_pick_chg_1.columns)))\n",
    "    for f in range(len(econ_pick_chg_1.columns)):\n",
    "        reg = LinearRegression().fit(DCM, MFM[:, f])\n",
    "        FCM[:, f] = reg.coef_\n",
    "    return FCM"
   ]
  },
  {
   "cell_type": "code",
   "execution_count": 47,
   "metadata": {},
   "outputs": [],
   "source": [
    "FCM = relate_market_features_to_latent_factors(MFM, DCM)"
   ]
  },
  {
   "cell_type": "code",
   "execution_count": 48,
   "metadata": {},
   "outputs": [
    {
     "data": {
      "text/plain": [
       "array([[ 4.42151140e-04,  3.79806791e-04, -1.37138195e-04,\n",
       "         7.46789712e-04,  6.28076478e-05, -2.93028287e-04,\n",
       "        -2.86689235e-04, -2.38103564e-04],\n",
       "       [ 3.44485191e-04,  4.20097205e-05, -3.37020892e-04,\n",
       "        -5.07364435e-03, -4.28762924e-06,  2.98803411e-04,\n",
       "        -7.66437436e-04,  9.45402822e-04],\n",
       "       [ 4.57070358e-06, -1.34469618e-04,  2.85133026e-04,\n",
       "        -5.21686414e-03, -3.27711624e-04,  7.17308229e-04,\n",
       "        -6.50772734e-04, -1.45883273e-05],\n",
       "       [-5.26876114e-04, -8.47054196e-04,  1.76214281e-03,\n",
       "        -8.46475070e-03, -1.96117728e-03,  1.46226876e-03,\n",
       "        -6.21502892e-04,  8.05484382e-04]])"
      ]
     },
     "execution_count": 48,
     "metadata": {},
     "output_type": "execute_result"
    }
   ],
   "source": [
    "FCM"
   ]
  },
  {
   "cell_type": "code",
   "execution_count": 49,
   "metadata": {},
   "outputs": [],
   "source": [
    "# Predict future market features (this part is illustrative)\n",
    "future_MFM = np.random.rand(num_future_periods, len(econ_pick_chg_1.columns))  # Simulated future market features"
   ]
  },
  {
   "cell_type": "code",
   "execution_count": 50,
   "metadata": {},
   "outputs": [
    {
     "data": {
      "text/plain": [
       "array([[0.08935001, 0.03572677, 0.33203118, 0.68380204, 0.02637344,\n",
       "        0.4918585 , 0.34677862, 0.0159194 ]])"
      ]
     },
     "execution_count": 50,
     "metadata": {},
     "output_type": "execute_result"
    }
   ],
   "source": [
    "future_MFM"
   ]
  },
  {
   "cell_type": "code",
   "execution_count": 51,
   "metadata": {},
   "outputs": [
    {
     "name": "stdout",
     "output_type": "stream",
     "text": [
      "Adjusted predicted future strategy returns (SRM):\n",
      "[[0.49257007 0.48982903 0.48174713 0.51931145 0.49684933 0.48557565\n",
      "  0.49566562 0.51047421]]\n"
     ]
    }
   ],
   "source": [
    "# Adjust future DCM based on future market features\n",
    "def adjust_future_dcm_based_on_market_features(future_MFM, FCM, future_DCM):\n",
    "    for f in range(len(econ_pick_chg_1.columns)):\n",
    "        future_DCM[:, :] += future_MFM[:, f].reshape(-1, 1) @ FCM[:, f].reshape(1, -1)\n",
    "    return future_DCM\n",
    "\n",
    "adjusted_future_DCM = adjust_future_dcm_based_on_market_features(future_MFM, FCM, future_DCM)\n",
    "adjusted_future_SRM = np.dot(adjusted_future_DCM, SCM)\n",
    "\n",
    "print(\"Adjusted predicted future strategy returns (SRM):\")\n",
    "print(adjusted_future_SRM)"
   ]
  }
 ],
 "metadata": {
  "kernelspec": {
   "display_name": "algo_trd",
   "language": "python",
   "name": "python3"
  },
  "language_info": {
   "codemirror_mode": {
    "name": "ipython",
    "version": 3
   },
   "file_extension": ".py",
   "mimetype": "text/x-python",
   "name": "python",
   "nbconvert_exporter": "python",
   "pygments_lexer": "ipython3",
   "version": "3.8.13"
  }
 },
 "nbformat": 4,
 "nbformat_minor": 2
}
